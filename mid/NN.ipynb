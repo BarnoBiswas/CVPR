{
  "nbformat": 4,
  "nbformat_minor": 0,
  "metadata": {
    "colab": {
      "provenance": []
    },
    "kernelspec": {
      "name": "python3",
      "display_name": "Python 3"
    },
    "language_info": {
      "name": "python"
    }
  },
  "cells": [
    {
      "cell_type": "code",
      "execution_count": 1,
      "metadata": {
        "id": "d4yy8KmcGWCZ"
      },
      "outputs": [],
      "source": [
        "import numpy as np\n",
        "import matplotlib.pyplot as plt\n",
        "from sklearn.datasets import make_blobs\n",
        "import pandas as pd\n",
        "\n",
        "np.random.seed(0)"
      ]
    },
    {
      "cell_type": "code",
      "source": [
        "X, y = make_blobs(\n",
        "    n_samples=750,\n",
        "    centers=[[-2.1,-1.9],[0.2,3.2],[3.2,-1.1]],\n",
        "    n_features=2,\n",
        "    random_state=30\n",
        ")\n",
        "\n",
        "Y = np.eye(3)[y]"
      ],
      "metadata": {
        "id": "wLuDJlVhIrZy"
      },
      "execution_count": 2,
      "outputs": []
    },
    {
      "cell_type": "code",
      "source": [
        "X"
      ],
      "metadata": {
        "colab": {
          "base_uri": "https://localhost:8080/"
        },
        "id": "kCq_r-rEI99c",
        "outputId": "cbd313e1-25fb-4e78-a9d5-c0847dacff95"
      },
      "execution_count": 3,
      "outputs": [
        {
          "output_type": "execute_result",
          "data": {
            "text/plain": [
              "array([[-2.40249371, -2.96379773],\n",
              "       [-0.7834121 ,  4.24059933],\n",
              "       [-3.8206549 , -0.22976203],\n",
              "       ...,\n",
              "       [ 4.22161355, -0.54420595],\n",
              "       [-2.48701647, -3.82730539],\n",
              "       [-2.94491883, -3.37639136]])"
            ]
          },
          "metadata": {},
          "execution_count": 3
        }
      ]
    },
    {
      "cell_type": "code",
      "source": [
        "Y"
      ],
      "metadata": {
        "colab": {
          "base_uri": "https://localhost:8080/"
        },
        "id": "XCHgqvHhJCb3",
        "outputId": "c4a47d95-5df0-424e-a56f-d769c5d5c589"
      },
      "execution_count": 4,
      "outputs": [
        {
          "output_type": "execute_result",
          "data": {
            "text/plain": [
              "array([[1., 0., 0.],\n",
              "       [0., 1., 0.],\n",
              "       [1., 0., 0.],\n",
              "       ...,\n",
              "       [0., 0., 1.],\n",
              "       [1., 0., 0.],\n",
              "       [1., 0., 0.]])"
            ]
          },
          "metadata": {},
          "execution_count": 4
        }
      ]
    },
    {
      "cell_type": "code",
      "source": [
        "fig = plt.figure()\n",
        "for i in range(len(y)):\n",
        "    if y[i] == 0:\n",
        "        plt.plot(X[i,0], X[i,1], c='r', marker='o',ms=3)\n",
        "    elif y[i]==1 :\n",
        "        plt.plot(X[i,0], X[i,1], c='g', marker='o',ms=3)\n",
        "    else:\n",
        "      plt.plot(X[i,0], X[i,1], c='b', marker='o',ms=3)\n",
        "\n",
        "plt.show()"
      ],
      "metadata": {
        "colab": {
          "base_uri": "https://localhost:8080/",
          "height": 430
        },
        "id": "o-ZztG-DJIg7",
        "outputId": "f0821392-678b-45ac-d1ca-432080fa9fe3"
      },
      "execution_count": 5,
      "outputs": [
        {
          "output_type": "display_data",
          "data": {
            "text/plain": [
              "<Figure size 640x480 with 1 Axes>"
            ],
            "image/png": "[encoded data removed]"
          },
          "metadata": {}
        }
      ]
    },
    {
      "cell_type": "code",
      "source": [
        "class NeuralNetwork(object):\n",
        "  def __init__(self):\n",
        "    inputLayerNeurons=2\n",
        "    hiddenLayer1Neurons=10\n",
        "    hiddenLayer2Neurons=10\n",
        "    outLayerNeurons=3\n",
        "\n",
        "    self.learning_rate=0.2\n",
        "    self.W_H1I=np.random.randn(inputLayerNeurons,hiddenLayer1Neurons)\n",
        "    self.W_H2H1=np.random.randn(hiddenLayer1Neurons,hiddenLayer2Neurons)\n",
        "    self.W_OH2=np.random.randn(hiddenLayer2Neurons,outLayerNeurons)\n",
        "\n",
        "  def sigmoid(self,x,der=False):\n",
        "    if der==True:\n",
        "      return x*(1-x)\n",
        "    else:\n",
        "      return 1/(1+np.exp(-x))\n",
        "\n",
        "  def feedForward(self,X):\n",
        "\n",
        "    X = np.asarray(X, dtype=float)\n",
        "    single_input = False\n",
        "    if X.ndim == 1:\n",
        "        X = X.reshape(1, -1)\n",
        "        single_input = True\n",
        "\n",
        "    hidden1_input=np.dot(X,self.W_H1I)\n",
        "    self.hidden1_output=self.sigmoid(hidden1_input)\n",
        "\n",
        "    hidden2_input=np.dot(self.hidden1_output,self.W_H2H1)\n",
        "    self.hidden2_output=self.sigmoid(hidden2_input)\n",
        "\n",
        "    output_input=np.dot(self.hidden2_output,self.W_OH2)\n",
        "    pred=self.sigmoid(output_input)\n",
        "    return pred\n",
        "\n",
        "  def  backForward(self,X,Y,pred):\n",
        "    output_error=Y-pred\n",
        "    output_delta=self.learning_rate*output_error*self.sigmoid(pred,der=True)\n",
        "\n",
        "    hidden2_error=output_delta.dot(self.W_OH2.T)\n",
        "    hidden2_delta=self.learning_rate*hidden2_error*self.sigmoid(self.hidden2_output,der=True)\n",
        "\n",
        "    hidden1_error=hidden2_delta.dot(self.W_H2H1.T)\n",
        "    hidden1_delta=self.learning_rate*hidden1_error*self.sigmoid(self.hidden1_output,der=True)\n",
        "\n",
        "    self.W_H1I+=X.T.dot(hidden1_delta)\n",
        "    self.W_H2H1+=self.hidden1_output.T.dot(hidden2_delta)\n",
        "    self.W_OH2+=self.hidden2_output.T.dot(output_delta)\n",
        "  def train(self,X,Y):\n",
        "    output=self.feedForward(X)\n",
        "    self.backForward(X,Y,output)"
      ],
      "metadata": {
        "id": "aoNnxj9YJVlY"
      },
      "execution_count": 6,
      "outputs": []
    },
    {
      "cell_type": "code",
      "source": [
        "NN=NeuralNetwork()\n",
        "\n",
        "err=[]\n",
        "\n",
        "for i in range(10000):\n",
        "  NN.train(X,Y)\n",
        "  err.append(np.mean(np.square(Y-NN.feedForward(X))))\n",
        "plt.plot(err)"
      ],
      "metadata": {
        "colab": {
          "base_uri": "https://localhost:8080/",
          "height": 448
        },
        "id": "AvPtuLjnJfu9",
        "outputId": "2b98ccc5-1ed9-4eb2-849d-a7b44413ca8e"
      },
      "execution_count": 7,
      "outputs": [
        {
          "output_type": "execute_result",
          "data": {
            "text/plain": [
              "[<matplotlib.lines.Line2D at 0x7971e1b749b0>]"
            ]
          },
          "metadata": {},
          "execution_count": 7
        },
        {
          "output_type": "display_data",
          "data": {
            "text/plain": [
              "<Figure size 640x480 with 1 Axes>"
            ],
            "image/png": "[encoded data removed]"
          },
          "metadata": {}
        }
      ]
    },
    {
      "cell_type": "code",
      "source": [
        "print(NN.feedForward([-2.40249371, -2.96379773]))"
      ],
      "metadata": {
        "colab": {
          "base_uri": "https://localhost:8080/"
        },
        "id": "Ym2mGMeLKG1V",
        "outputId": "18579a96-55e1-4021-d9af-73cac3851b0d"
      },
      "execution_count": 9,
      "outputs": [
        {
          "output_type": "stream",
          "name": "stdout",
          "text": [
            "[[1.00000000e+00 8.62122607e-12 3.20100582e-09]]\n"
          ]
        }
      ]
    },
    {
      "cell_type": "code",
      "source": [
        "print(NN.feedForward([-0.7834121 ,  4.24059933]))"
      ],
      "metadata": {
        "colab": {
          "base_uri": "https://localhost:8080/"
        },
        "id": "2G2DqD1BKstw",
        "outputId": "c33e6c90-5d95-4e20-df2f-1d011d79fd36"
      },
      "execution_count": 10,
      "outputs": [
        {
          "output_type": "stream",
          "name": "stdout",
          "text": [
            "[[2.44918577e-08 9.99999969e-01 6.81200207e-07]]\n"
          ]
        }
      ]
    },
    {
      "cell_type": "code",
      "source": [
        "print(NN.feedForward([-3.8206549 , -0.22976203]))"
      ],
      "metadata": {
        "colab": {
          "base_uri": "https://localhost:8080/"
        },
        "id": "VrSgNPwhK-T2",
        "outputId": "2c82fa7d-1e14-4208-a2d2-ca4dd38d23ab"
      },
      "execution_count": 11,
      "outputs": [
        {
          "output_type": "stream",
          "name": "stdout",
          "text": [
            "[[9.99999990e-01 1.95848897e-08 7.35580796e-09]]\n"
          ]
        }
      ]
    }
  ]
}